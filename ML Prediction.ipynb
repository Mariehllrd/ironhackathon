{
 "cells": [
  {
   "cell_type": "code",
   "execution_count": 1,
   "metadata": {},
   "outputs": [],
   "source": [
    "# importing libraries\n",
    "import pandas as pd  \n",
    "import numpy as np   \n",
    "from sklearn.model_selection import train_test_split \n",
    "from sklearn.linear_model import LinearRegression\n",
    "from sklearn import metrics"
   ]
  },
  {
   "cell_type": "code",
   "execution_count": 2,
   "metadata": {},
   "outputs": [],
   "source": [
    "ds = pd.read_csv('./data/clean.csv')\n",
    "ds = ds.drop('Unnamed: 0', axis = 1)"
   ]
  },
  {
   "cell_type": "code",
   "execution_count": 51,
   "metadata": {
    "scrolled": true
   },
   "outputs": [
    {
     "data": {
      "text/html": [
       "<div>\n",
       "<style scoped>\n",
       "    .dataframe tbody tr th:only-of-type {\n",
       "        vertical-align: middle;\n",
       "    }\n",
       "\n",
       "    .dataframe tbody tr th {\n",
       "        vertical-align: top;\n",
       "    }\n",
       "\n",
       "    .dataframe thead th {\n",
       "        text-align: right;\n",
       "    }\n",
       "</style>\n",
       "<table border=\"1\" class=\"dataframe\">\n",
       "  <thead>\n",
       "    <tr style=\"text-align: right;\">\n",
       "      <th></th>\n",
       "      <th>Country</th>\n",
       "      <th>Year</th>\n",
       "      <th>Total</th>\n",
       "      <th>Administration</th>\n",
       "      <th>Arts and Sports</th>\n",
       "      <th>Construction</th>\n",
       "      <th>Education</th>\n",
       "      <th>Electricity and Gas</th>\n",
       "      <th>Extractive Ind</th>\n",
       "      <th>Finance and Insurance</th>\n",
       "      <th>Hospitality</th>\n",
       "      <th>Information and Communication</th>\n",
       "      <th>Manufacturing</th>\n",
       "      <th>Real Estate</th>\n",
       "      <th>Scientific Consultancy</th>\n",
       "      <th>Social Work</th>\n",
       "      <th>Transportation and Storage</th>\n",
       "      <th>Water and Sewage</th>\n",
       "      <th>Wholesale</th>\n",
       "    </tr>\n",
       "  </thead>\n",
       "  <tbody>\n",
       "    <tr>\n",
       "      <td>0</td>\n",
       "      <td>Austria</td>\n",
       "      <td>2010</td>\n",
       "      <td>24.0</td>\n",
       "      <td>22.5</td>\n",
       "      <td>34.0</td>\n",
       "      <td>9.9</td>\n",
       "      <td>27.8</td>\n",
       "      <td>23.6</td>\n",
       "      <td>18.3</td>\n",
       "      <td>30.3</td>\n",
       "      <td>9.9</td>\n",
       "      <td>21.2</td>\n",
       "      <td>24.4</td>\n",
       "      <td>27.0</td>\n",
       "      <td>34.0</td>\n",
       "      <td>12.0</td>\n",
       "      <td>7.3</td>\n",
       "      <td>12.2</td>\n",
       "      <td>27.5</td>\n",
       "    </tr>\n",
       "    <tr>\n",
       "      <td>1</td>\n",
       "      <td>Belgium</td>\n",
       "      <td>2008</td>\n",
       "      <td>10.2</td>\n",
       "      <td>18.9</td>\n",
       "      <td>9.1</td>\n",
       "      <td>-0.6</td>\n",
       "      <td>3.6</td>\n",
       "      <td>30.8</td>\n",
       "      <td>-8.8</td>\n",
       "      <td>22.6</td>\n",
       "      <td>9.6</td>\n",
       "      <td>16.0</td>\n",
       "      <td>12.5</td>\n",
       "      <td>18.5</td>\n",
       "      <td>20.1</td>\n",
       "      <td>9.4</td>\n",
       "      <td>5.0</td>\n",
       "      <td>1.1</td>\n",
       "      <td>18.2</td>\n",
       "    </tr>\n",
       "    <tr>\n",
       "      <td>2</td>\n",
       "      <td>Belgium</td>\n",
       "      <td>2010</td>\n",
       "      <td>10.2</td>\n",
       "      <td>17.6</td>\n",
       "      <td>8.9</td>\n",
       "      <td>-1.6</td>\n",
       "      <td>3.4</td>\n",
       "      <td>29.6</td>\n",
       "      <td>-13.4</td>\n",
       "      <td>22.1</td>\n",
       "      <td>8.7</td>\n",
       "      <td>15.2</td>\n",
       "      <td>11.5</td>\n",
       "      <td>17.8</td>\n",
       "      <td>19.4</td>\n",
       "      <td>9.3</td>\n",
       "      <td>4.1</td>\n",
       "      <td>-0.5</td>\n",
       "      <td>17.1</td>\n",
       "    </tr>\n",
       "    <tr>\n",
       "      <td>3</td>\n",
       "      <td>Belgium</td>\n",
       "      <td>2011</td>\n",
       "      <td>9.4</td>\n",
       "      <td>15.4</td>\n",
       "      <td>6.9</td>\n",
       "      <td>-2.8</td>\n",
       "      <td>3.3</td>\n",
       "      <td>27.7</td>\n",
       "      <td>-10.4</td>\n",
       "      <td>21.6</td>\n",
       "      <td>7.9</td>\n",
       "      <td>14.4</td>\n",
       "      <td>10.1</td>\n",
       "      <td>14.2</td>\n",
       "      <td>18.3</td>\n",
       "      <td>6.8</td>\n",
       "      <td>4.5</td>\n",
       "      <td>-1.0</td>\n",
       "      <td>15.6</td>\n",
       "    </tr>\n",
       "    <tr>\n",
       "      <td>4</td>\n",
       "      <td>Belgium</td>\n",
       "      <td>2012</td>\n",
       "      <td>8.3</td>\n",
       "      <td>13.4</td>\n",
       "      <td>5.1</td>\n",
       "      <td>-4.0</td>\n",
       "      <td>3.3</td>\n",
       "      <td>26.0</td>\n",
       "      <td>-7.1</td>\n",
       "      <td>21.2</td>\n",
       "      <td>7.0</td>\n",
       "      <td>13.5</td>\n",
       "      <td>8.9</td>\n",
       "      <td>10.8</td>\n",
       "      <td>17.3</td>\n",
       "      <td>4.5</td>\n",
       "      <td>4.9</td>\n",
       "      <td>-1.2</td>\n",
       "      <td>14.6</td>\n",
       "    </tr>\n",
       "    <tr>\n",
       "      <td>...</td>\n",
       "      <td>...</td>\n",
       "      <td>...</td>\n",
       "      <td>...</td>\n",
       "      <td>...</td>\n",
       "      <td>...</td>\n",
       "      <td>...</td>\n",
       "      <td>...</td>\n",
       "      <td>...</td>\n",
       "      <td>...</td>\n",
       "      <td>...</td>\n",
       "      <td>...</td>\n",
       "      <td>...</td>\n",
       "      <td>...</td>\n",
       "      <td>...</td>\n",
       "      <td>...</td>\n",
       "      <td>...</td>\n",
       "      <td>...</td>\n",
       "      <td>...</td>\n",
       "      <td>...</td>\n",
       "    </tr>\n",
       "    <tr>\n",
       "      <td>260</td>\n",
       "      <td>Uk</td>\n",
       "      <td>2013</td>\n",
       "      <td>21.0</td>\n",
       "      <td>8.9</td>\n",
       "      <td>27.1</td>\n",
       "      <td>22.0</td>\n",
       "      <td>20.1</td>\n",
       "      <td>25.2</td>\n",
       "      <td>11.6</td>\n",
       "      <td>39.2</td>\n",
       "      <td>12.2</td>\n",
       "      <td>18.4</td>\n",
       "      <td>18.5</td>\n",
       "      <td>27.5</td>\n",
       "      <td>26.3</td>\n",
       "      <td>27.3</td>\n",
       "      <td>4.3</td>\n",
       "      <td>-0.4</td>\n",
       "      <td>25.5</td>\n",
       "    </tr>\n",
       "    <tr>\n",
       "      <td>261</td>\n",
       "      <td>Uk</td>\n",
       "      <td>2014</td>\n",
       "      <td>20.9</td>\n",
       "      <td>10.4</td>\n",
       "      <td>26.0</td>\n",
       "      <td>18.3</td>\n",
       "      <td>20.3</td>\n",
       "      <td>21.4</td>\n",
       "      <td>7.5</td>\n",
       "      <td>39.0</td>\n",
       "      <td>11.3</td>\n",
       "      <td>17.0</td>\n",
       "      <td>19.4</td>\n",
       "      <td>22.7</td>\n",
       "      <td>25.1</td>\n",
       "      <td>26.6</td>\n",
       "      <td>7.9</td>\n",
       "      <td>-0.7</td>\n",
       "      <td>24.9</td>\n",
       "    </tr>\n",
       "    <tr>\n",
       "      <td>262</td>\n",
       "      <td>Uk</td>\n",
       "      <td>2015</td>\n",
       "      <td>21.0</td>\n",
       "      <td>10.1</td>\n",
       "      <td>38.9</td>\n",
       "      <td>14.1</td>\n",
       "      <td>20.4</td>\n",
       "      <td>21.2</td>\n",
       "      <td>7.7</td>\n",
       "      <td>37.4</td>\n",
       "      <td>10.7</td>\n",
       "      <td>17.1</td>\n",
       "      <td>20.2</td>\n",
       "      <td>22.1</td>\n",
       "      <td>25.3</td>\n",
       "      <td>26.4</td>\n",
       "      <td>7.4</td>\n",
       "      <td>-1.1</td>\n",
       "      <td>23.1</td>\n",
       "    </tr>\n",
       "    <tr>\n",
       "      <td>263</td>\n",
       "      <td>Uk</td>\n",
       "      <td>2016</td>\n",
       "      <td>20.7</td>\n",
       "      <td>10.0</td>\n",
       "      <td>36.5</td>\n",
       "      <td>17.8</td>\n",
       "      <td>21.0</td>\n",
       "      <td>20.7</td>\n",
       "      <td>0.2</td>\n",
       "      <td>36.1</td>\n",
       "      <td>12.3</td>\n",
       "      <td>17.6</td>\n",
       "      <td>18.3</td>\n",
       "      <td>22.9</td>\n",
       "      <td>22.8</td>\n",
       "      <td>25.8</td>\n",
       "      <td>3.6</td>\n",
       "      <td>-1.3</td>\n",
       "      <td>21.4</td>\n",
       "    </tr>\n",
       "    <tr>\n",
       "      <td>264</td>\n",
       "      <td>Uk</td>\n",
       "      <td>2017</td>\n",
       "      <td>20.8</td>\n",
       "      <td>11.3</td>\n",
       "      <td>42.7</td>\n",
       "      <td>13.9</td>\n",
       "      <td>20.1</td>\n",
       "      <td>18.0</td>\n",
       "      <td>-4.9</td>\n",
       "      <td>34.2</td>\n",
       "      <td>9.6</td>\n",
       "      <td>18.2</td>\n",
       "      <td>17.1</td>\n",
       "      <td>21.9</td>\n",
       "      <td>23.7</td>\n",
       "      <td>25.4</td>\n",
       "      <td>5.8</td>\n",
       "      <td>-0.5</td>\n",
       "      <td>22.2</td>\n",
       "    </tr>\n",
       "  </tbody>\n",
       "</table>\n",
       "<p>265 rows × 19 columns</p>\n",
       "</div>"
      ],
      "text/plain": [
       "     Country  Year  Total  Administration  Arts and Sports  Construction  \\\n",
       "0    Austria  2010   24.0            22.5             34.0           9.9   \n",
       "1    Belgium  2008   10.2            18.9              9.1          -0.6   \n",
       "2    Belgium  2010   10.2            17.6              8.9          -1.6   \n",
       "3    Belgium  2011    9.4            15.4              6.9          -2.8   \n",
       "4    Belgium  2012    8.3            13.4              5.1          -4.0   \n",
       "..       ...   ...    ...             ...              ...           ...   \n",
       "260       Uk  2013   21.0             8.9             27.1          22.0   \n",
       "261       Uk  2014   20.9            10.4             26.0          18.3   \n",
       "262       Uk  2015   21.0            10.1             38.9          14.1   \n",
       "263       Uk  2016   20.7            10.0             36.5          17.8   \n",
       "264       Uk  2017   20.8            11.3             42.7          13.9   \n",
       "\n",
       "     Education  Electricity and Gas  Extractive Ind  Finance and Insurance  \\\n",
       "0         27.8                 23.6            18.3                   30.3   \n",
       "1          3.6                 30.8            -8.8                   22.6   \n",
       "2          3.4                 29.6           -13.4                   22.1   \n",
       "3          3.3                 27.7           -10.4                   21.6   \n",
       "4          3.3                 26.0            -7.1                   21.2   \n",
       "..         ...                  ...             ...                    ...   \n",
       "260       20.1                 25.2            11.6                   39.2   \n",
       "261       20.3                 21.4             7.5                   39.0   \n",
       "262       20.4                 21.2             7.7                   37.4   \n",
       "263       21.0                 20.7             0.2                   36.1   \n",
       "264       20.1                 18.0            -4.9                   34.2   \n",
       "\n",
       "     Hospitality  Information and Communication  Manufacturing  Real Estate  \\\n",
       "0            9.9                           21.2           24.4         27.0   \n",
       "1            9.6                           16.0           12.5         18.5   \n",
       "2            8.7                           15.2           11.5         17.8   \n",
       "3            7.9                           14.4           10.1         14.2   \n",
       "4            7.0                           13.5            8.9         10.8   \n",
       "..           ...                            ...            ...          ...   \n",
       "260         12.2                           18.4           18.5         27.5   \n",
       "261         11.3                           17.0           19.4         22.7   \n",
       "262         10.7                           17.1           20.2         22.1   \n",
       "263         12.3                           17.6           18.3         22.9   \n",
       "264          9.6                           18.2           17.1         21.9   \n",
       "\n",
       "     Scientific Consultancy  Social Work  Transportation and Storage  \\\n",
       "0                      34.0         12.0                         7.3   \n",
       "1                      20.1          9.4                         5.0   \n",
       "2                      19.4          9.3                         4.1   \n",
       "3                      18.3          6.8                         4.5   \n",
       "4                      17.3          4.5                         4.9   \n",
       "..                      ...          ...                         ...   \n",
       "260                    26.3         27.3                         4.3   \n",
       "261                    25.1         26.6                         7.9   \n",
       "262                    25.3         26.4                         7.4   \n",
       "263                    22.8         25.8                         3.6   \n",
       "264                    23.7         25.4                         5.8   \n",
       "\n",
       "     Water and Sewage  Wholesale  \n",
       "0                12.2       27.5  \n",
       "1                 1.1       18.2  \n",
       "2                -0.5       17.1  \n",
       "3                -1.0       15.6  \n",
       "4                -1.2       14.6  \n",
       "..                ...        ...  \n",
       "260              -0.4       25.5  \n",
       "261              -0.7       24.9  \n",
       "262              -1.1       23.1  \n",
       "263              -1.3       21.4  \n",
       "264              -0.5       22.2  \n",
       "\n",
       "[265 rows x 19 columns]"
      ]
     },
     "execution_count": 51,
     "metadata": {},
     "output_type": "execute_result"
    }
   ],
   "source": [
    "ds"
   ]
  },
  {
   "cell_type": "markdown",
   "metadata": {},
   "source": [
    "### Belgium"
   ]
  },
  {
   "cell_type": "code",
   "execution_count": 52,
   "metadata": {
    "scrolled": true
   },
   "outputs": [
    {
     "data": {
      "text/html": [
       "<div>\n",
       "<style scoped>\n",
       "    .dataframe tbody tr th:only-of-type {\n",
       "        vertical-align: middle;\n",
       "    }\n",
       "\n",
       "    .dataframe tbody tr th {\n",
       "        vertical-align: top;\n",
       "    }\n",
       "\n",
       "    .dataframe thead th {\n",
       "        text-align: right;\n",
       "    }\n",
       "</style>\n",
       "<table border=\"1\" class=\"dataframe\">\n",
       "  <thead>\n",
       "    <tr style=\"text-align: right;\">\n",
       "      <th></th>\n",
       "      <th>Country</th>\n",
       "      <th>Year</th>\n",
       "      <th>Total</th>\n",
       "    </tr>\n",
       "  </thead>\n",
       "  <tbody>\n",
       "    <tr>\n",
       "      <td>1</td>\n",
       "      <td>Belgium</td>\n",
       "      <td>2008</td>\n",
       "      <td>10.2</td>\n",
       "    </tr>\n",
       "    <tr>\n",
       "      <td>2</td>\n",
       "      <td>Belgium</td>\n",
       "      <td>2010</td>\n",
       "      <td>10.2</td>\n",
       "    </tr>\n",
       "    <tr>\n",
       "      <td>3</td>\n",
       "      <td>Belgium</td>\n",
       "      <td>2011</td>\n",
       "      <td>9.4</td>\n",
       "    </tr>\n",
       "    <tr>\n",
       "      <td>4</td>\n",
       "      <td>Belgium</td>\n",
       "      <td>2012</td>\n",
       "      <td>8.3</td>\n",
       "    </tr>\n",
       "    <tr>\n",
       "      <td>5</td>\n",
       "      <td>Belgium</td>\n",
       "      <td>2013</td>\n",
       "      <td>7.5</td>\n",
       "    </tr>\n",
       "    <tr>\n",
       "      <td>6</td>\n",
       "      <td>Belgium</td>\n",
       "      <td>2014</td>\n",
       "      <td>6.6</td>\n",
       "    </tr>\n",
       "    <tr>\n",
       "      <td>7</td>\n",
       "      <td>Belgium</td>\n",
       "      <td>2015</td>\n",
       "      <td>6.5</td>\n",
       "    </tr>\n",
       "    <tr>\n",
       "      <td>8</td>\n",
       "      <td>Belgium</td>\n",
       "      <td>2016</td>\n",
       "      <td>6.1</td>\n",
       "    </tr>\n",
       "    <tr>\n",
       "      <td>9</td>\n",
       "      <td>Belgium</td>\n",
       "      <td>2017</td>\n",
       "      <td>6.0</td>\n",
       "    </tr>\n",
       "  </tbody>\n",
       "</table>\n",
       "</div>"
      ],
      "text/plain": [
       "   Country  Year  Total\n",
       "1  Belgium  2008   10.2\n",
       "2  Belgium  2010   10.2\n",
       "3  Belgium  2011    9.4\n",
       "4  Belgium  2012    8.3\n",
       "5  Belgium  2013    7.5\n",
       "6  Belgium  2014    6.6\n",
       "7  Belgium  2015    6.5\n",
       "8  Belgium  2016    6.1\n",
       "9  Belgium  2017    6.0"
      ]
     },
     "execution_count": 52,
     "metadata": {},
     "output_type": "execute_result"
    }
   ],
   "source": [
    "belgium = ds.loc[ds.Country == \"Belgium\", [\"Country\",\"Year\",\"Total\"]]\n",
    "belgium"
   ]
  },
  {
   "cell_type": "code",
   "execution_count": 53,
   "metadata": {},
   "outputs": [
    {
     "name": "stdout",
     "output_type": "stream",
     "text": [
      "Year to expect a 0% salary gap:  2026\n"
     ]
    }
   ],
   "source": [
    "X = belgium[\"Year\"].values.reshape(-1,1)\n",
    "y = belgium[\"Total\"].values.reshape(-1,1)\n",
    "\n",
    "X_train, X_test, y_train, y_test = train_test_split(X, y, test_size=0.01, random_state=0)\n",
    "\n",
    "regressor = LinearRegression()  \n",
    "regressor.fit(X_train, y_train)\n",
    "\n",
    "intercept = regressor.intercept_\n",
    "coef = regressor.coef_\n",
    "\n",
    "print(\"Year to expect a 0% salary gap: \", round(int(- intercept / coef)))"
   ]
  },
  {
   "cell_type": "markdown",
   "metadata": {},
   "source": [
    "### France"
   ]
  },
  {
   "cell_type": "code",
   "execution_count": 54,
   "metadata": {},
   "outputs": [
    {
     "name": "stdout",
     "output_type": "stream",
     "text": [
      "Year to expect a 0% salary gap:  2169\n"
     ]
    }
   ],
   "source": [
    "france = ds.loc[ds.Country == \"France\", [\"Country\",\"Year\",\"Total\"]]\n",
    "\n",
    "X = france[\"Year\"].values.reshape(-1,1)\n",
    "y = france[\"Total\"].values.reshape(-1,1)\n",
    "\n",
    "X_train, X_test, y_train, y_test = train_test_split(X, y, test_size=0.01, random_state=0)\n",
    "\n",
    "regressor = LinearRegression()  \n",
    "regressor.fit(X_train, y_train)\n",
    "\n",
    "intercept = regressor.intercept_\n",
    "coef = regressor.coef_\n",
    "\n",
    "print(\"Year to expect a 0% salary gap: \", round(int(- intercept / coef)))"
   ]
  },
  {
   "cell_type": "markdown",
   "metadata": {},
   "source": [
    "### UK"
   ]
  },
  {
   "cell_type": "code",
   "execution_count": 58,
   "metadata": {},
   "outputs": [
    {
     "name": "stdout",
     "output_type": "stream",
     "text": [
      "Year to expect a 0% salary gap:  2796\n"
     ]
    }
   ],
   "source": [
    "uk = ds.loc[ds.Country == \"Uk\", [\"Country\",\"Year\",\"Total\"]]\n",
    "X = uk[\"Year\"].values.reshape(-1,1)\n",
    "y = uk[\"Total\"].values.reshape(-1,1)\n",
    "\n",
    "X_train, X_test, y_train, y_test = train_test_split(X, y, test_size=0.01, random_state=0)\n",
    "\n",
    "regressor = LinearRegression()  \n",
    "regressor.fit(X_train, y_train)\n",
    "\n",
    "intercept = regressor.intercept_\n",
    "coef = regressor.coef_\n",
    "\n",
    "print(\"Year to expect a 0% salary gap: \", round(int(- intercept / coef)))"
   ]
  },
  {
   "cell_type": "markdown",
   "metadata": {},
   "source": [
    "### Poland"
   ]
  },
  {
   "cell_type": "code",
   "execution_count": 59,
   "metadata": {},
   "outputs": [
    {
     "name": "stdout",
     "output_type": "stream",
     "text": [
      "Year to expect a 0% salary gap:  2026\n"
     ]
    }
   ],
   "source": [
    "poland = ds.loc[ds.Country == \"Poland\", [\"Country\",\"Year\",\"Total\"]]\n",
    "X = poland[\"Year\"].values.reshape(-1,1)\n",
    "y = poland[\"Total\"].values.reshape(-1,1)\n",
    "\n",
    "X_train, X_test, y_train, y_test = train_test_split(X, y, test_size=0.01, random_state=0)\n",
    "\n",
    "regressor = LinearRegression()  \n",
    "regressor.fit(X_train, y_train)\n",
    "\n",
    "intercept = regressor.intercept_\n",
    "coef = regressor.coef_\n",
    "\n",
    "print(\"Year to expect a 0% salary gap: \", round(int(- intercept / coef)))"
   ]
  },
  {
   "cell_type": "markdown",
   "metadata": {},
   "source": [
    "### Denmark"
   ]
  },
  {
   "cell_type": "code",
   "execution_count": 60,
   "metadata": {},
   "outputs": [
    {
     "name": "stdout",
     "output_type": "stream",
     "text": [
      "Year to expect a 0% salary gap:  2072\n"
     ]
    }
   ],
   "source": [
    "denmark = ds.loc[ds.Country == \"Denmark\", [\"Country\",\"Year\",\"Total\"]]\n",
    "X = denmark[\"Year\"].values.reshape(-1,1)\n",
    "y = denmark[\"Total\"].values.reshape(-1,1)\n",
    "\n",
    "X_train, X_test, y_train, y_test = train_test_split(X, y, test_size=0.01, random_state=0)\n",
    "\n",
    "regressor = LinearRegression()  \n",
    "regressor.fit(X_train, y_train)\n",
    "\n",
    "intercept = regressor.intercept_\n",
    "coef = regressor.coef_\n",
    "\n",
    "print(\"Year to expect a 0% salary gap: \", round(int(- intercept / coef)))"
   ]
  },
  {
   "cell_type": "markdown",
   "metadata": {},
   "source": [
    "### Sweden"
   ]
  },
  {
   "cell_type": "code",
   "execution_count": 61,
   "metadata": {},
   "outputs": [
    {
     "name": "stdout",
     "output_type": "stream",
     "text": [
      "Year to expect a 0% salary gap:  2046\n"
     ]
    }
   ],
   "source": [
    "sweden = ds.loc[ds.Country == \"Sweden\", [\"Country\",\"Year\",\"Total\"]]\n",
    "X = sweden[\"Year\"].values.reshape(-1,1)\n",
    "y = sweden[\"Total\"].values.reshape(-1,1)\n",
    "\n",
    "X_train, X_test, y_train, y_test = train_test_split(X, y, test_size=0.01, random_state=0)\n",
    "\n",
    "regressor = LinearRegression()  \n",
    "regressor.fit(X_train, y_train)\n",
    "\n",
    "intercept = regressor.intercept_\n",
    "coef = regressor.coef_\n",
    "\n",
    "print(\"Year to expect a 0% salary gap: \", round(int(- intercept / coef)))"
   ]
  },
  {
   "cell_type": "markdown",
   "metadata": {},
   "source": [
    "### Spain"
   ]
  },
  {
   "cell_type": "code",
   "execution_count": 62,
   "metadata": {},
   "outputs": [
    {
     "name": "stdout",
     "output_type": "stream",
     "text": [
      "Year to expect a 0% salary gap:  2068\n"
     ]
    }
   ],
   "source": [
    "spain = ds.loc[ds.Country == \"Spain\", [\"Country\",\"Year\",\"Total\"]]\n",
    "X = spain[\"Year\"].values.reshape(-1,1)\n",
    "y = spain[\"Total\"].values.reshape(-1,1)\n",
    "\n",
    "X_train, X_test, y_train, y_test = train_test_split(X, y, test_size=0.01, random_state=0)\n",
    "\n",
    "regressor = LinearRegression()  \n",
    "regressor.fit(X_train, y_train)\n",
    "\n",
    "intercept = regressor.intercept_\n",
    "coef = regressor.coef_\n",
    "\n",
    "print(\"Year to expect a 0% salary gap: \", round(int(- intercept / coef)))"
   ]
  },
  {
   "cell_type": "markdown",
   "metadata": {},
   "source": [
    "### Norway"
   ]
  },
  {
   "cell_type": "code",
   "execution_count": 68,
   "metadata": {},
   "outputs": [
    {
     "name": "stdout",
     "output_type": "stream",
     "text": [
      "Year to expect a 0% salary gap:  2080\n"
     ]
    }
   ],
   "source": [
    "norway = ds.loc[ds.Country == \"Norway\", [\"Country\",\"Year\",\"Total\"]]\n",
    "X = norway[\"Year\"].values.reshape(-1,1)\n",
    "y = norway[\"Total\"].values.reshape(-1,1)\n",
    "\n",
    "X_train, X_test, y_train, y_test = train_test_split(X, y, test_size=0.01, random_state=0)\n",
    "\n",
    "regressor = LinearRegression()  \n",
    "regressor.fit(X_train, y_train)\n",
    "\n",
    "intercept = regressor.intercept_\n",
    "coef = regressor.coef_\n",
    "\n",
    "print(\"Year to expect a 0% salary gap: \", round(int(- intercept / coef)))"
   ]
  },
  {
   "cell_type": "markdown",
   "metadata": {},
   "source": [
    "### Predictions"
   ]
  },
  {
   "cell_type": "code",
   "execution_count": 70,
   "metadata": {},
   "outputs": [
    {
     "data": {
      "text/plain": [
       "{'Belgium': 2026,\n",
       " 'France': 2169,\n",
       " 'UK': 2796,\n",
       " 'Poland': 2026,\n",
       " 'Denmark': 2072,\n",
       " 'Sweden': 2046,\n",
       " 'Spain': 2068,\n",
       " 'Norway': 2080}"
      ]
     },
     "execution_count": 70,
     "metadata": {},
     "output_type": "execute_result"
    }
   ],
   "source": [
    "predictions = {'Belgium':2026,\n",
    "              'France':2169,\n",
    "              'UK':2796,\n",
    "               'Poland':2026,\n",
    "              'Denmark':2072,\n",
    "               'Sweden':2046,\n",
    "               'Spain':2068,\n",
    "               'Norway':2080\n",
    "             }\n",
    "predictions"
   ]
  },
  {
   "cell_type": "code",
   "execution_count": null,
   "metadata": {},
   "outputs": [],
   "source": []
  }
 ],
 "metadata": {
  "kernelspec": {
   "display_name": "Python 3",
   "language": "python",
   "name": "python3"
  },
  "language_info": {
   "codemirror_mode": {
    "name": "ipython",
    "version": 3
   },
   "file_extension": ".py",
   "mimetype": "text/x-python",
   "name": "python",
   "nbconvert_exporter": "python",
   "pygments_lexer": "ipython3",
   "version": "3.7.4"
  }
 },
 "nbformat": 4,
 "nbformat_minor": 2
}
