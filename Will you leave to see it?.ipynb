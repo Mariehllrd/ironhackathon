{
 "cells": [
  {
   "cell_type": "code",
   "execution_count": 1,
   "metadata": {},
   "outputs": [],
   "source": [
    "import pandas as pd\n",
    "import fuzzy_pandas as fpd"
   ]
  },
  {
   "cell_type": "code",
   "execution_count": 2,
   "metadata": {},
   "outputs": [
    {
     "data": {
      "text/plain": [
       "TIME                   int64\n",
       "GEO                   object\n",
       "SEX                   object\n",
       "AGE                   object\n",
       "UNIT                  object\n",
       "Value                 object\n",
       "Flag and Footnotes    object\n",
       "dtype: object"
      ]
     },
     "execution_count": 2,
     "metadata": {},
     "output_type": "execute_result"
    }
   ],
   "source": [
    "life = pd.read_csv('./data/life.csv')\n",
    "paygap = pd.read_csv('./data/clean.csv')\n",
    "paygap = paygap.drop('Unnamed: 0', axis = 'columns')\n",
    "life.dtypes"
   ]
  },
  {
   "cell_type": "code",
   "execution_count": 3,
   "metadata": {},
   "outputs": [],
   "source": [
    "life = life.loc[(life['TIME'] == 2018) & (life['SEX'] == 'Total')]"
   ]
  },
  {
   "cell_type": "code",
   "execution_count": 4,
   "metadata": {},
   "outputs": [],
   "source": [
    "life['GEO'] = life['GEO'].str.strip().str.title()\n",
    "life = life[['GEO', 'Value']]\n",
    "life = life.rename(columns = {'GEO':'Country','Value':'Expenctancy'})"
   ]
  },
  {
   "cell_type": "code",
   "execution_count": 5,
   "metadata": {},
   "outputs": [
    {
     "data": {
      "text/plain": [
       "array(['European Union - 27 Countries (From 2020)',\n",
       "       'European Union - 28 Countries (2013-2020)',\n",
       "       'European Union - 27 Countries (2007-2013)',\n",
       "       'Euro Area - 19 Countries  (From 2015)',\n",
       "       'Euro Area - 18 Countries (2014)', 'Belgium', 'Bulgaria',\n",
       "       'Czechia', 'Denmark',\n",
       "       'Germany (Until 1990 Former Territory Of The Frg)',\n",
       "       'Germany Including Former Gdr', 'Estonia', 'Ireland', 'Greece',\n",
       "       'Spain', 'France', 'France (Metropolitan)', 'Croatia', 'Italy',\n",
       "       'Cyprus', 'Latvia', 'Lithuania', 'Luxembourg', 'Hungary', 'Malta',\n",
       "       'Netherlands', 'Austria', 'Poland', 'Portugal', 'Romania',\n",
       "       'Slovenia', 'Slovakia', 'Finland', 'Sweden', 'United Kingdom',\n",
       "       'European Economic Area (Eu28 - 2013-2020 And Is, Li, No)',\n",
       "       'European Economic Area (Eu27 - 2007-2013 And Is, Li, No)',\n",
       "       'European Free Trade Association', 'Iceland', 'Liechtenstein',\n",
       "       'Norway', 'Switzerland', 'Montenegro', 'North Macedonia',\n",
       "       'Albania', 'Serbia', 'Turkey', 'Belarus',\n",
       "       'Kosovo (Under United Nations Security Council Resolution 1244/99)',\n",
       "       'Moldova', 'Russia', 'San Marino', 'Ukraine', 'Armenia',\n",
       "       'Azerbaijan', 'Georgia'], dtype=object)"
      ]
     },
     "execution_count": 5,
     "metadata": {},
     "output_type": "execute_result"
    }
   ],
   "source": [
    "life.Country.unique()"
   ]
  },
  {
   "cell_type": "code",
   "execution_count": 6,
   "metadata": {
    "scrolled": true
   },
   "outputs": [
    {
     "data": {
      "text/html": [
       "<div>\n",
       "<style scoped>\n",
       "    .dataframe tbody tr th:only-of-type {\n",
       "        vertical-align: middle;\n",
       "    }\n",
       "\n",
       "    .dataframe tbody tr th {\n",
       "        vertical-align: top;\n",
       "    }\n",
       "\n",
       "    .dataframe thead th {\n",
       "        text-align: right;\n",
       "    }\n",
       "</style>\n",
       "<table border=\"1\" class=\"dataframe\">\n",
       "  <thead>\n",
       "    <tr style=\"text-align: right;\">\n",
       "      <th></th>\n",
       "      <th>Country</th>\n",
       "      <th>Expenctancy</th>\n",
       "    </tr>\n",
       "  </thead>\n",
       "  <tbody>\n",
       "    <tr>\n",
       "      <td>1536</td>\n",
       "      <td>Denmark</td>\n",
       "      <td>81.0</td>\n",
       "    </tr>\n",
       "    <tr>\n",
       "      <td>1593</td>\n",
       "      <td>Poland</td>\n",
       "      <td>77.7</td>\n",
       "    </tr>\n",
       "    <tr>\n",
       "      <td>1611</td>\n",
       "      <td>Sweden</td>\n",
       "      <td>82.6</td>\n",
       "    </tr>\n",
       "    <tr>\n",
       "      <td>1614</td>\n",
       "      <td>United Kingdom</td>\n",
       "      <td>81.3</td>\n",
       "    </tr>\n",
       "    <tr>\n",
       "      <td>1632</td>\n",
       "      <td>Norway</td>\n",
       "      <td>82.8</td>\n",
       "    </tr>\n",
       "  </tbody>\n",
       "</table>\n",
       "</div>"
      ],
      "text/plain": [
       "             Country Expenctancy\n",
       "1536         Denmark        81.0\n",
       "1593          Poland        77.7\n",
       "1611          Sweden        82.6\n",
       "1614  United Kingdom        81.3\n",
       "1632          Norway        82.8"
      ]
     },
     "execution_count": 6,
     "metadata": {},
     "output_type": "execute_result"
    }
   ],
   "source": [
    "life = life.loc[(life['Country'] == 'Poland') | (life['Country'] == 'Sweden') | \n",
    "                (life['Country'] == 'United Kingdom') | (life['Country'] == 'Norway') | (life['Country'] == 'Denmark')]\n",
    "life"
   ]
  },
  {
   "cell_type": "code",
   "execution_count": 7,
   "metadata": {},
   "outputs": [
    {
     "data": {
      "text/plain": [
       "{'UK': 81.3, 'Poland': 77.7, 'Denmark': 81, 'Sweden': 82.6, 'Norway': 82.8}"
      ]
     },
     "execution_count": 7,
     "metadata": {},
     "output_type": "execute_result"
    }
   ],
   "source": [
    "dict_life = {\n",
    " 'UK': 81.3,\n",
    " 'Poland': 77.7,\n",
    " 'Denmark': 81,\n",
    " 'Sweden': 82.6,\n",
    " 'Norway': 82.8}\n",
    "dict_life"
   ]
  },
  {
   "cell_type": "code",
   "execution_count": null,
   "metadata": {},
   "outputs": [],
   "source": [
    "data = fpd.fuzzy_merge(paygap, life, left_on='Country', right_on='GEO', ignore_case=True)"
   ]
  },
  {
   "cell_type": "code",
   "execution_count": null,
   "metadata": {},
   "outputs": [],
   "source": [
    "data = data.drop('GEO', axis = 1)"
   ]
  },
  {
   "cell_type": "code",
   "execution_count": null,
   "metadata": {},
   "outputs": [],
   "source": [
    "data"
   ]
  },
  {
   "cell_type": "code",
   "execution_count": null,
   "metadata": {},
   "outputs": [],
   "source": []
  }
 ],
 "metadata": {
  "kernelspec": {
   "display_name": "Python 3",
   "language": "python",
   "name": "python3"
  },
  "language_info": {
   "codemirror_mode": {
    "name": "ipython",
    "version": 3
   },
   "file_extension": ".py",
   "mimetype": "text/x-python",
   "name": "python",
   "nbconvert_exporter": "python",
   "pygments_lexer": "ipython3",
   "version": "3.7.4"
  }
 },
 "nbformat": 4,
 "nbformat_minor": 2
}
